{
  "nbformat": 4,
  "nbformat_minor": 0,
  "metadata": {
    "colab": {
      "provenance": [],
      "authorship_tag": "ABX9TyO6YVrWnj94fJmvgYYkaytx",
      "include_colab_link": true
    },
    "kernelspec": {
      "name": "python3",
      "display_name": "Python 3"
    },
    "language_info": {
      "name": "python"
    }
  },
  "cells": [
    {
      "cell_type": "markdown",
      "metadata": {
        "id": "view-in-github",
        "colab_type": "text"
      },
      "source": [
        "<a href=\"https://colab.research.google.com/github/SamanthaPerezHuerta/Practicas_Segundo_Tercer_Parcial/blob/main/Aplicaciones_PrimerProblema.ipynb\" target=\"_parent\"><img src=\"https://colab.research.google.com/assets/colab-badge.svg\" alt=\"Open In Colab\"/></a>"
      ]
    },
    {
      "cell_type": "markdown",
      "source": [
        ">**Primer Problema**\n",
        "\n",
        "1.Durante una ronda de inspección por una reserva, dos guardabosques descubrieron\n",
        "el cadáver de un jabalí. Un examen preliminar permitió concluir que el animal falleció\n",
        "instantáneamente a causa de un balazo de una cazador furtivo. sospechando que el\n",
        "\n",
        "cazador debía regresar a recoger su presa, los guardas decidieron esperarlo escon-\n",
        "didos no lejos del lugar del crimen. Al poco tiempo aparecieron dos sujetos y se diri-\n",
        "gieron sin rodeos al jabalí. Al ser detenidos los desconocidos negaron rotundamente\n",
        "\n",
        "su participación en el delito. Aunque los guardabosques tenían pruebas indirectas\n",
        "de su culpabilidad, para obtener una prueba fehaciente era necesario determinar el\n",
        "instante exacto en que el jabalí fue muerto.\n",
        "Conforme a la ley de radiación de calor la velocidad de enfriamiento de un cuerpo en\n",
        "el medio ambiente es proporcionar a la diferencia. Entre la temperatura del cuerpo y\n",
        "la temperatura del medio\n",
        "\n",
        "*(dx/dt) = k(x - a)*\n",
        "\n",
        "Donde x es la temperatura del cuerpo en el instante t, a es la temperatura del medio ambiente y k es un factor positivo de proporcionalidad, x0 es la temperatura del\n",
        "\n",
        "cuerpo en el instante t = 0.\n",
        "\n",
        "(a) Si en el instante en que fueron detenidos los sospechosos la temperatura x del\n",
        "cuerpo del jabalí era igual a 31°C y pasada una hora era igual a 29°C, entonces,\n",
        "considerando que en el instante del disparo x = 37C y a = 21C, y tomando el\n",
        "instante del arresto como t = 0, determinar el momento del disparo.\n",
        "\n",
        "(b) En el caso cuando la temperatura del aire varía con el tiempo, la ley de enfria-\n",
        "miento del cuerpo se convierte en la ecuación diferencial lineal no homogénea.\n",
        "\n",
        "*dx/dt = kx − ka(t)*\n",
        "\n",
        "Donde a(t) es la temperatura del aire en el instante t. Hagamos algunas conjetu-\n",
        "ras: en el instante de la detención de los sospechosos la temperatura del cuerpo\n",
        "\n",
        "del jabalí era igual a 30°C; el día del acontecimiento la temperatura del aire descendió cada hora después del medio día en 1°C y era igual a 0°C en el instante del hallazgo del cadáver; finalmente, pongamos que al cabo de una hora de ser detectado el animal, su temperatura bajó hasta 25°C. Tomando t = 0 como en el instante del disparo, asumiendo que entonces la temperatura corporal del jabalí era x0 = 37C y denotando con t^∗ el instante en que los guardabosques descubrieron el cadáver, obtenemos a(t) = t^∗ − t. Hallar de nuevo el momento en que murió el jabalí."
      ],
      "metadata": {
        "id": "ViD6-J1DisZG"
      }
    },
    {
      "cell_type": "markdown",
      "source": [
        "> **Solución:**  \n",
        "\n",
        "\n",
        "Se pocede por el modelo matemático del tema *Ley de Newton de enfriamiento*\n",
        "con la fórmula ya deducida:  $\\frac{dT}{dt} = k(T-T_m)$\n",
        "\n",
        "\n",
        "\n",
        "> Para el caso 1) con latemperatura ambiente constante se tiene:\n",
        "\n",
        "$t_0=0$\\\n",
        "$T_m = 21$\\\n",
        "$T(0) = 31$\\\n",
        "$T(1) = 29$\\\n",
        "$T(t) = 37$\n",
        "\n",
        "se resuelve por variables separables:\n",
        "\n",
        "$\\frac{dT}{dt} = k(T-T_m) ⇒ \\frac{dT}{T-T_m} = kdt ⇒ \\frac{dT}{T-T_m} = kdt$\n",
        "$⇒ \\int\\frac{dT}{T-T_m} = \\int kdt ⇒ ln(T-T_m) = kt + c$\n",
        "$⇒ e^{ln(T-T_m)} = e^{kt + c} ⇒ T-T_m = ce^{kt}$\n",
        "\n",
        "$⇒ T = T_m + ce^{kt}$\n",
        "\n",
        "Se calcula la constante con referencia como $T(t_o) = 31$:\n",
        "\n",
        "$T = 21 + ce^{kt} ⇒ 31 = 21 + c$\n",
        "\n",
        "$c = 10$\n",
        "\n",
        "Sustituimos $T = 21 +10e^{kt}$, luego obtenemos *k* con $T(1) = 29$\n",
        "\n",
        "$29 = 21 + 10e^{k} ⇒ 10e^{k} = 8$\n",
        "\n",
        "$⇒ e^{k} = \\frac{4}{10} ⇒ ln(e^{k})= ln(\\frac{4}{5})$\n",
        "\n",
        "$⇒ k = ln(\\frac{4}{5})$\n",
        "\n",
        "$⇒ k = -0.2231435513$\n",
        "\n",
        "Volvemos a sustituir $T = 21 - 10e^{-0.2231435513(t)}$ y resolvemos ahora para $T(t) = 37$\n",
        "\n",
        "$37 = 21 - 10e^{-0.2231435513(t)}$\n",
        "\n",
        "Despejamos a *t*\n",
        "\n",
        "$t = \\frac{ln(\\frac{4}{5})}{-0.2231435513} = -2.106265203$\n",
        "\n",
        "Por lo que se deduce que en el momento entre el disparo y cuando fueron detenidos los sopechosos, se calculan 2 horas y 5 minutos.\n",
        "\n",
        "> Para el caso 2) con la temperatura ambiente varía:\n",
        "\n",
        "Se tiene  el dato de la detención de sospchosos $T(t) = 30$ con un cambio de temperatura de 1ºC a 0ºC y con el hallazgo del cádaver $T(1) = 25$, con los siguientes datos del momento del disparo:\n",
        "\n",
        "$t = 0$\\\n",
        "$T(t^{*}) = 37 $\\\n",
        "$T(t)_m = t^{*} - t$\n",
        "\n",
        "Integramos la ecuación original por factor integrante:\n",
        "$\\frac{dT}{dt} = k(T-T(t)_m) ⇒ T = (37 - t^{*} - \\frac{1}{k})e^{-kt} + t^{*}-t + \\frac{1}{k}$\n",
        "\n",
        "Teniendo en cuenta que para $t = t^{*}$ se tiene $T = 30$ , y que $T = 25$ para $t = t^{*}+1$, obtenemos las igualdades correspondientes:\n",
        "\n",
        "$(37 - t^{*} - \\frac{1}{k})e^{-kt^{*}}+ \\frac{1}{k} = 30 $\n",
        "\n",
        "$(37 - t^{*} - \\frac{1}{k})e^{-k(t^{*}+1)}+ \\frac{1}{k} = 26$\n",
        "\n",
        "Resulta la ecuación con respecto a *k*: $(37 - \\frac{1}{k})e^{-k} - 26 + \\frac{1}{k} = 0$\n",
        "\n",
        "Se resuelven por el método de aproximaciones sucesivas de Newton:\n",
        "\n",
        "Para $T_m$ que no cambia y se tiene la ecuación:\n",
        "\n",
        "$P(k):  30k - 1 + (1-26k)e^{k} = 0$\n",
        "\n",
        "Para cuando $T_m$ cambia, se toma $T = 37$:\n",
        "\n",
        "$P(k): (37k-1+kt)e^{kt}-30k+1 = 0$"
      ],
      "metadata": {
        "id": "ftTuUAYek-Pd"
      }
    },
    {
      "cell_type": "code",
      "source": [
        "from math import *\n",
        "import numpy as np\n",
        "\n",
        "#Se asignan valores\n",
        "po = 0.5\n",
        "tol = 0.0000001\n",
        "n = 10\n",
        "\n",
        "#Se aplican las operaciones de las expresiones mostradas:\n",
        "import math\n",
        "def f1(x):\n",
        "  f = 30*x - 1 +(1-26*x)*(math.exp(x))\n",
        "  return (f)\n",
        "\n",
        "def f2(x):\n",
        "  h = 30 - (25 + 26*x)*(math.exp(x))\n",
        "  return (h)\n",
        "\n",
        "def f3(x):\n",
        "  g = -(51+26*x)*(math.exp(x))\n",
        "  return (g)\n",
        "\n",
        "  # Implementamos el algoritmo de Newton\n",
        "print(\"i \\t pn \\t\\t f(pn) \\t\\t f'(pn) \\t f''(pn)\")\n",
        "print(\"0 \\t {1:6.6f} \\t {2:6.6f} \\t {3:6.6f} \\t {4:6.6f}\".format(0,po,f1(po),f2(po),f3(po)))\n",
        "i = 1\n",
        "while i<=n:\n",
        "  p = po - f1(po)/f2(po)\n",
        "\n",
        "  if abs(p-po) < tol:\n",
        "    break\n",
        "\n",
        "  po = p\n",
        "\n",
        "  #Mostrar en pantalla la tabla\n",
        "  print(\"{0} \\t {1:6.6f} \\t {2:6.6f} \\t {3:6.6f} \\t {4:6.6f}\".format(i,po,f1(po),f2(po),f3(po)))\n",
        "  i = i+1"
      ],
      "metadata": {
        "colab": {
          "base_uri": "https://localhost:8080/"
        },
        "id": "_RSlWRizt1nU",
        "outputId": "1d541318-5886-4126-fb00-df13831a89bc"
      },
      "execution_count": 1,
      "outputs": [
        {
          "output_type": "stream",
          "name": "stdout",
          "text": [
            "i \t pn \t\t f(pn) \t\t f'(pn) \t f''(pn)\n",
            "0 \t 0.500000 \t -5.784655 \t -32.651408 \t -105.518161\n",
            "1 \t 0.322836 \t -1.525956 \t -16.118044 \t -82.025052\n",
            "2 \t 0.228162 \t -0.351425 \t -8.859806 \t -71.523322\n",
            "3 \t 0.188497 \t -0.055195 \t -6.103384 \t -67.496659\n",
            "4 \t 0.179454 \t -0.002748 \t -5.497020 \t -66.607676\n",
            "5 \t 0.178954 \t -0.000008 \t -5.463736 \t -66.558845\n",
            "6 \t 0.178952 \t -0.000000 \t -5.463635 \t -66.558696\n"
          ]
        }
      ]
    },
    {
      "cell_type": "code",
      "source": [
        "#Se asignan nuevamente valores:\n",
        "to = -1\n",
        "tol = 0.000000001\n",
        "n = 10\n",
        "\n",
        "#Sustituimos el valor de K = 0.178952 y resolvemos para el tiempo (t):\n",
        "def g1(x):\n",
        "  k=0.178952\n",
        "  j = (37*k-1+k*x)*(math.exp(k*x))-30*k + 1\n",
        "  return (j)\n",
        "\n",
        "def g2(x):\n",
        "  k=0.178952\n",
        "  m = (37*(k**2) + (k**2)*x)*(math.exp(k*x))\n",
        "  return (m)\n",
        "\n",
        "def g3(x):\n",
        "  k=0.178952\n",
        "  r = (37*(k**3) + k**2 + (k**3)*k)*(math.exp(k*x))\n",
        "  return (r)\n",
        "\n",
        "# Implementamos el algoritmo de Newton cuando T_m cambia:\n",
        "print(\"i \\t pn \\t\\t f(pn) \\t\\t f'(pn) \\t f''(pn)\")\n",
        "print(\"0 \\t {1:6.6f} \\t {2:6.6f} \\t {3:6.6f} \\t {4:6.6f}\".format(0,to,g1(to),g2(to),g3(to)))\n",
        "i = 1\n",
        "while i<=n:\n",
        "  t = to - g1(to)/g2(to)\n",
        "\n",
        "  if abs(t-to) < tol:\n",
        "    break\n",
        "\n",
        "  to = t\n",
        "\n",
        "  #Mostrar en pantalla la tabla\n",
        "  print(\"{0} \\t {1:6.7f} \\t {2:6.7f} \\t {3:6.7f} \\t {4:6.7f}\".format(i,to,g1(to),g2(to),g3(to)))\n",
        "  i = i+1"
      ],
      "metadata": {
        "colab": {
          "base_uri": "https://localhost:8080/"
        },
        "id": "zZAyaGQJubHT",
        "outputId": "d2a9b902-5ba7-4b6f-f49f-d0ce5374496c"
      },
      "execution_count": 4,
      "outputs": [
        {
          "output_type": "stream",
          "name": "stdout",
          "text": [
            "i \t pn \t\t f(pn) \t\t f'(pn) \t f''(pn)\n",
            "0 \t -1.000000 \t 0.181974 \t 0.963957 \t 0.204928\n",
            "1 \t -1.1887782 \t 0.0035059 \t 0.9270495 \t 0.1981206\n",
            "2 \t -1.1925601 \t 0.0000014 \t 0.9263245 \t 0.1979865\n",
            "3 \t -1.1925615 \t 0.0000000 \t 0.9263242 \t 0.1979865\n"
          ]
        }
      ]
    },
    {
      "cell_type": "code",
      "source": [
        "print(\"Se observa que aplicando el método de Ley de Enfriamiento de Newton, se analiza que el jabalí murió un aproximado de 1 hora y 12 minutos antes de que fuera encontrado\")"
      ],
      "metadata": {
        "colab": {
          "base_uri": "https://localhost:8080/"
        },
        "id": "yiZirwUfvPoi",
        "outputId": "7c2d387e-681c-4cde-f266-b515eb487acf"
      },
      "execution_count": 6,
      "outputs": [
        {
          "output_type": "stream",
          "name": "stdout",
          "text": [
            "Se observa que aplicando el método de Ley de Enfriamiento de Newton, se analiza que el jabalí murió un aproximado de 1 hora y 12 minutos antes de que fuera encontrado\n"
          ]
        }
      ]
    }
  ]
}