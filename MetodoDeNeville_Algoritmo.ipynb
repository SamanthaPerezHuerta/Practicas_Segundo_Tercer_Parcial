{
  "nbformat": 4,
  "nbformat_minor": 0,
  "metadata": {
    "colab": {
      "provenance": [],
      "toc_visible": true,
      "authorship_tag": "ABX9TyPiYFMUHnEBj8U6LFnSxrjo",
      "include_colab_link": true
    },
    "kernelspec": {
      "name": "python3",
      "display_name": "Python 3"
    },
    "language_info": {
      "name": "python"
    }
  },
  "cells": [
    {
      "cell_type": "markdown",
      "metadata": {
        "id": "view-in-github",
        "colab_type": "text"
      },
      "source": [
        "<a href=\"https://colab.research.google.com/github/SamanthaPerezHuerta/Practicas_Segundo_Tercer_Parcial/blob/main/MetodoDeNeville_Algoritmo.ipynb\" target=\"_parent\"><img src=\"https://colab.research.google.com/assets/colab-badge.svg\" alt=\"Open In Colab\"/></a>"
      ]
    },
    {
      "cell_type": "code",
      "execution_count": 4,
      "metadata": {
        "colab": {
          "base_uri": "https://localhost:8080/"
        },
        "id": "jrjUHVnKlLLN",
        "outputId": "ce5aad86-7862-4bbb-a5af-3ff494be8662"
      },
      "outputs": [
        {
          "output_type": "stream",
          "name": "stdout",
          "text": [
            "Los valores arrojados para la interpolación de a= 1.5 son:\n",
            "[[0.7651977  0.         0.         0.         0.        ]\n",
            " [0.620086   0.52334487 0.         0.         0.        ]\n",
            " [0.4554022  0.5102968  0.51247148 0.         0.        ]\n",
            " [0.2818186  0.5132634  0.51128567 0.51181269 0.        ]\n",
            " [0.1103623  0.510427   0.51373613 0.51183021 0.51181999]]\n"
          ]
        }
      ],
      "source": [
        "#ALGORITMO: MÉTODO DE INTERPOLACIÓN DE NEVILLE\n",
        "\n",
        "import numpy as np\n",
        "\n",
        "#Se tienen los valores iniciales en la tabla:\n",
        "x=[1.0, 1.3, 1.6, 1.9, 2.2]\n",
        "y=[0.7651977, 0.6200860, 0.4554022, 0.2818186, 0.1103623]\n",
        "\n",
        "#Se prosigue por la matriz M\n",
        "M=np.zeros((len(x),len(y)))\n",
        "\n",
        "#Se le asigna la variable \"a\" al número a interpolar\n",
        "a=1.5\n",
        "\n",
        "#Se calculan las filas y columnas con:\n",
        "for r in range(0,len(y)):\n",
        "  M[r][0]=y[r]\n",
        "\n",
        "for i in range(1,len(y)):\n",
        "  for j in range(1,i+1):\n",
        "    M[i][j]=((a- x[i-j])*(M[i][j-1])-(a-x[i])*(M[i-1][j-1]))/(x[i]-x[i-j])\n",
        "\n",
        "#Se pide que se muestren en pantalla los resultados:\n",
        "print(\"Los valores arrojados para la interpolación de a= 1.5 son:\")\n",
        "print(M)"
      ]
    }
  ]
}