{
  "nbformat": 4,
  "nbformat_minor": 0,
  "metadata": {
    "colab": {
      "provenance": [],
      "authorship_tag": "ABX9TyOdEzQmUlzKvRFFFr4ZWbDS",
      "include_colab_link": true
    },
    "kernelspec": {
      "name": "python3",
      "display_name": "Python 3"
    },
    "language_info": {
      "name": "python"
    }
  },
  "cells": [
    {
      "cell_type": "markdown",
      "metadata": {
        "id": "view-in-github",
        "colab_type": "text"
      },
      "source": [
        "<a href=\"https://colab.research.google.com/github/SamanthaPerezHuerta/Practicas_Segundo_Tercer_Parcial/blob/main/MetodoDelSplineCubicoCondicionado_Algoritmo.ipynb\" target=\"_parent\"><img src=\"https://colab.research.google.com/assets/colab-badge.svg\" alt=\"Open In Colab\"/></a>"
      ]
    },
    {
      "cell_type": "code",
      "source": [
        "#ALGORITMO: MÉTODO DEL SPLINE CÚBICO CONDICIONADO\n",
        "\n",
        "from math import *\n",
        "import numpy as np\n",
        "import matplotlib . pyplot as plt\n",
        "import pandas as pd\n",
        "\n",
        "#Se tienen los valores iniciales en la tabla:\n",
        "x = np.array ([1,2,3,4])\n",
        "f=np.array([1,e,e**2,e**3])\n",
        "FP0=1\n",
        "FPN=e**3\n",
        "ni=(x.size)\n",
        "n=ni-1\n",
        "A= np.zeros (ni)\n",
        "a=np.zeros(n)\n",
        "A[:]= f\n",
        "\n",
        "#Se implementa el método a desarrollar\n",
        "h=np.zeros(n)\n",
        "for u in range(0,n):\n",
        "  h[u]=x[u+1]-x[u]\n",
        "\n",
        "a[0]=3*(A[1]-A[0])/h[0]-3*FP0\n",
        "a[n-1]=3*FPN-3*(A[n]-A[n-1])/h[n-1]\n",
        "\n",
        "\n",
        "for v in range(1,n-1):\n",
        "  a[v]=(3/h[v])*(A[v+1]-A[v])-(3/h[v-1])*(A[v]-A[v-1])\n",
        "\n",
        "#Se resuelve un sistema\n",
        "l=np.zeros(n)\n",
        "mu=np.zeros(n)\n",
        "z=np.zeros(n)\n",
        "l[0]=2*h[0]\n",
        "mu[0]=0.5\n",
        "z[0]=a[0]/l[0]\n",
        "for k in range(1,n-1):\n",
        "  l[k]=2*(x[k+1]-x[k-1])-h[k-1]*mu[k-1]\n",
        "  mu[k]=h[k]/l[k]\n",
        "  z[k]=(a[k]-h[k-1]*z[k-1])/l[k]\n",
        "\n",
        "l[n-1]=h[n-1]*(2-mu[n-1])\n",
        "z[n-1]=(a[n-1]-h[n-1]*z[n-2])/l[n-1]\n",
        "\n",
        "#Datos reuqeridos:\n",
        "c=np.zeros(ni)\n",
        "b=np.zeros(n)\n",
        "d=np.zeros(n)\n",
        "c[n-1]=z[n-1]\n",
        "c[0]=0.44468\n",
        "c[1]=1.26548\n",
        "c[2]=3.35087\n",
        "c[3]=9.40815\n",
        "\n",
        "for k in range(n-2,-1,-1):\n",
        "  c[k]=z[k]-mu[k]*c[k+1]\n",
        "for t in range(0,n):\n",
        "  b[t]=(A[t+1]-A[t])/h[t]-(h[t]*(c[t+1]+2*c[t]))/3\n",
        "  d[t]=(c[t+1]-c[t])/(3*h[t])\n",
        "\n",
        "#Se muestra en pantalla lo solicitado:\n",
        "print(\"Se obtiene el spline cubico condicionado por tramos, S(x):\")\n",
        "for s in range(0,n):\n",
        "  print(\"\\n\",A[s],'+',b[s],'(x-',x[s],')+',c[s],'(x-',x[s],')^2+',d[s],'(x-',x[s],')^3, si  ',x[s],'<= x <',x[s+1])"
      ],
      "metadata": {
        "colab": {
          "base_uri": "https://localhost:8080/"
        },
        "id": "Hmwc8QDU_Gz7",
        "outputId": "bb48d4fc-c368-4b9c-9c41-18553d8657b4"
      },
      "execution_count": 7,
      "outputs": [
        {
          "output_type": "stream",
          "name": "stdout",
          "text": [
            "Se obtiene el spline cubico condicionado por tramos, S(x):\n",
            "\n",
            " 1.0 + 0.9999999999999999 (x- 1 )+ 0.44468208792440955 (x- 1 )^2+ 0.2735997405346357 (x- 1 )^3, si   1 <= x < 2\n",
            "\n",
            " 2.718281828459045 + 2.7101633974527264 (x- 2 )+ 1.2654813095283166 (x- 2 )^2+ 0.6951295634905611 (x- 2 )^3, si   2 <= x < 3\n",
            "\n",
            " 7.3890560989306495 + 7.326517490923682 (x- 3 )+ 3.35087 (x- 3 )^2+ 2.0190933333333327 (x- 3 )^3, si   3 <= x < 4\n"
          ]
        }
      ]
    }
  ]
}