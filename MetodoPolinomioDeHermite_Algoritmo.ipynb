{
  "nbformat": 4,
  "nbformat_minor": 0,
  "metadata": {
    "colab": {
      "provenance": [],
      "include_colab_link": true
    },
    "kernelspec": {
      "name": "python3",
      "display_name": "Python 3"
    },
    "language_info": {
      "name": "python"
    }
  },
  "cells": [
    {
      "cell_type": "markdown",
      "metadata": {
        "id": "view-in-github",
        "colab_type": "text"
      },
      "source": [
        "<a href=\"https://colab.research.google.com/github/SamanthaPerezHuerta/Practicas_Segundo_Tercer_Parcial/blob/main/MetodoPolinomioDeHermite_Algoritmo.ipynb\" target=\"_parent\"><img src=\"https://colab.research.google.com/assets/colab-badge.svg\" alt=\"Open In Colab\"/></a>"
      ]
    },
    {
      "cell_type": "code",
      "source": [
        "#ALGORITMO DEL METODO DE HERMITE\n",
        "\n",
        "import numpy as np\n",
        "import sympy as sym\n",
        "\n",
        "#Se tienen los valores iniciales en la tabla:\n",
        "x=[1.3,1.6,1.9]\n",
        "y=[0.6200860,0.4554022,0.2818186]\n",
        "z=[-0.5220232,-0.5698959,-0.5811571]\n",
        "\n",
        "#Se prosigue por la creacion de la matriz A\n",
        "A= np.zeros(((len(x)+3),(len(y)+3)))\n",
        "#Se continua por la creacion de la matriz B\n",
        "B= np.zeros(((len(x)*2),(1)))\n",
        "\n",
        "#Se calculan las filas y columnas con:\n",
        "\n",
        "for r in range(0,len(y)):\n",
        "  A[r][0]=y[r]\n",
        "\n",
        "#Se desarrolla el metodo de Hermite con lo anterior:\n",
        "\n",
        "for i in range(0,len(x)):\n",
        "  B[2*i] = x[i]\n",
        "  B[2*i+1]= x[i]\n",
        "  A[2*i][0] = y[i]\n",
        "  A[2*i+1][0] = y[i]\n",
        "  A[2*i+1][1] = z[i]\n",
        "  if i != 0:\n",
        "    A[2*i][1] = ((A[2*i][0])-(A[2*i-1][0]))/((B[2*i]- B[2*i-1]))\n",
        "\n",
        "for i in range(2,len(x)+3):\n",
        "    for j in range(2,i+1):\n",
        "        A[i][j]=(A[i][j-1]-A[i-1][j-1])/(B[i]-Z[i-j])\n",
        "\n",
        "print(A)"
      ],
      "metadata": {
        "id": "PPWiAWTCUfCa",
        "colab": {
          "base_uri": "https://localhost:8080/"
        },
        "outputId": "2f85fd5d-28cd-4512-9d0a-edbf3957799e"
      },
      "execution_count": 15,
      "outputs": [
        {
          "output_type": "stream",
          "name": "stdout",
          "text": [
            "[[ 0.620086    0.          0.          0.          0.          0.        ]\n",
            " [ 0.620086   -0.5220232   0.          0.          0.          0.        ]\n",
            " [ 0.4554022  -0.548946   -0.08974267  0.          0.          0.        ]\n",
            " [ 0.4554022  -0.5698959  -0.069833    0.06636556  0.          0.        ]\n",
            " [ 0.2818186  -0.578612   -0.02905367  0.06796556  0.00266667  0.        ]\n",
            " [ 0.2818186  -0.5811571  -0.00848367  0.06856667  0.00100185 -0.00277469]]\n"
          ]
        }
      ]
    }
  ]
}