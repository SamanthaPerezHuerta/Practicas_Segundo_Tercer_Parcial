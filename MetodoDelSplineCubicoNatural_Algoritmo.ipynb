{
  "nbformat": 4,
  "nbformat_minor": 0,
  "metadata": {
    "colab": {
      "provenance": [],
      "authorship_tag": "ABX9TyNT3Co/kj/VzhDapC1JkmRp",
      "include_colab_link": true
    },
    "kernelspec": {
      "name": "python3",
      "display_name": "Python 3"
    },
    "language_info": {
      "name": "python"
    }
  },
  "cells": [
    {
      "cell_type": "markdown",
      "metadata": {
        "id": "view-in-github",
        "colab_type": "text"
      },
      "source": [
        "<a href=\"https://colab.research.google.com/github/SamanthaPerezHuerta/Practicas_Segundo_Tercer_Parcial/blob/main/MetodoDelSplineCubicoNatural_Algoritmo.ipynb\" target=\"_parent\"><img src=\"https://colab.research.google.com/assets/colab-badge.svg\" alt=\"Open In Colab\"/></a>"
      ]
    },
    {
      "cell_type": "code",
      "execution_count": 11,
      "metadata": {
        "colab": {
          "base_uri": "https://localhost:8080/"
        },
        "id": "oYUyrA1yDSmM",
        "outputId": "34026346-b24e-47c5-a016-650c503c438f"
      },
      "outputs": [
        {
          "output_type": "stream",
          "name": "stdout",
          "text": [
            "Los coeficientes de las funciones que interpolan a la funcion f(x), son:\n",
            "         aj        bj        cj        dj\n",
            "0  1.000000  0.888220  1.000000 -0.169938\n",
            "1  2.718282  2.378406  0.490186  1.802182\n",
            "2  7.389056  8.765325  5.896733 -1.965578\n"
          ]
        }
      ],
      "source": [
        "#ALGORITMO: MÉTODO DEL SPLINE CÚBICO NATURAL\n",
        "\n",
        "import matplotlib.pyplot as plt\n",
        "import pandas as pd\n",
        "from math import *\n",
        "import numpy as np\n",
        "\n",
        "#Se tienen los valores iniciales en la tabla:\n",
        "x=[1,2,3,4]\n",
        "y=[1,np.exp(1),np.exp(2),np.exp(3)]\n",
        "\n",
        "#Se piden valores\n",
        "a=y\n",
        "l=[]\n",
        "u=[]\n",
        "z=[]\n",
        "h=[]\n",
        "A=[]\n",
        "c=[]\n",
        "b=[]\n",
        "d=[]\n",
        "for i in range(0,len(x)-1):\n",
        " l.append(0)\n",
        " u.append(0)\n",
        " z.append(0)\n",
        " h.append(0)\n",
        " A.append(0)\n",
        " c.append(0)\n",
        " b.append(0)\n",
        " d.append(0)\n",
        "\n",
        " #Se determinan los valores de h\n",
        "n=1\n",
        "for n in range(0,len(x)-1):\n",
        "  h[n]= x[n+1]-x[n]\n",
        "\n",
        "# Se modifican los valores de 'a':\n",
        "for n in range(1,len(x)-1):\n",
        "  A[n]= (3/h[n])*(a[n+1]-a[n]) - (3/h[n-1])*(a[n]-a[n-1])\n",
        "\n",
        "\n",
        "#Se inializan las varibles l,u,z:\n",
        "l[0]=1\n",
        "u[0]=0\n",
        "z[0]=1\n",
        "\n",
        "#Se determinan l,u,z\n",
        "for n in range(1,len(x)-1):\n",
        "  l[n]=2*( x[n+1]-x[n-1]) - (h[n-1] )*(u[n-1])\n",
        "  u[n]=(h[n] )/l[n]\n",
        "  z[n]=(A[n]- (h[n-1])*(z[n-1]) )/l[n]\n",
        "\n",
        "l.append(1)\n",
        "z.append(0)\n",
        "c.append(0)\n",
        "\n",
        "#Se palica el método a desarrollar:\n",
        "k= len(x)-2\n",
        "while (k>=0) :\n",
        "  c[k]=z[k] - (u[k])*(c[k+1])\n",
        "  b[k]=(a[k+1] - a[k])/h[k] - (h[k])*(c[k+1] + 2*c[k])/3\n",
        "  d[k]=(c[k+1] - c[k])/(3*h[k])\n",
        "  k=k-1\n",
        "a.pop()\n",
        "c.pop()\n",
        "\n",
        "#Se muestra en pantalla el resultado:\n",
        "print( \"Los coeficientes de las funciones que interpolan a la funcion f(x), son:\")\n",
        "df = pd.DataFrame()\n",
        "df[\"aj\"]=a\n",
        "df[\"bj\"]=b\n",
        "df[\"cj\"]=c\n",
        "df[\"dj\"]=d\n",
        "print(df)"
      ]
    }
  ]
}