{
  "nbformat": 4,
  "nbformat_minor": 0,
  "metadata": {
    "colab": {
      "provenance": [],
      "authorship_tag": "ABX9TyNMwLXXxSZF4M92cCFIyNxc",
      "include_colab_link": true
    },
    "kernelspec": {
      "name": "python3",
      "display_name": "Python 3"
    },
    "language_info": {
      "name": "python"
    }
  },
  "cells": [
    {
      "cell_type": "markdown",
      "metadata": {
        "id": "view-in-github",
        "colab_type": "text"
      },
      "source": [
        "<a href=\"https://colab.research.google.com/github/SamanthaPerezHuerta/Practicas_Segundo_Tercer_Parcial/blob/main/DiferenciasDivididasDeNewton_Algoritmo.ipynb\" target=\"_parent\"><img src=\"https://colab.research.google.com/assets/colab-badge.svg\" alt=\"Open In Colab\"/></a>"
      ]
    },
    {
      "cell_type": "code",
      "execution_count": null,
      "metadata": {
        "colab": {
          "base_uri": "https://localhost:8080/"
        },
        "id": "m2IsQBqgnawJ",
        "outputId": "259636fb-7728-4629-ac07-e7b3e2734286"
      },
      "outputs": [
        {
          "output_type": "stream",
          "name": "stdout",
          "text": [
            "Los valores arrojados para la interpolación de a= 1.5 son:\n",
            "\n",
            "[[ 0.7651977   0.          0.          0.          0.        ]\n",
            " [ 0.620086   -0.48370567  0.          0.          0.        ]\n",
            " [ 0.4554022  -0.548946   -0.10873389  0.          0.        ]\n",
            " [ 0.2818186  -0.578612   -0.04944333  0.0658784   0.        ]\n",
            " [ 0.1103623  -0.571521    0.01181833  0.06806852  0.0018251 ]]\n"
          ]
        }
      ],
      "source": [
        "\n",
        "\n",
        "#ALGORITMO: METODO DE DIFERENCIAS DIVIDIDAS DE NEWTON\n",
        "\n",
        "import numpy as np\n",
        "import sympy as sym\n",
        "\n",
        "\n",
        "#Se tienen los valores iniciales en la tabla:\n",
        "x=[1.0, 1.3, 1.6, 1.9, 2.2]\n",
        "y=[0.7651977, 0.6200860, 0.4554022, 0.2818186, 0.1103623]\n",
        "\n",
        "#Se prosigue por la creacion de la matriz M\n",
        "M=np.zeros((len(x),len(y)))\n",
        "\n",
        "#Se le asigna la variable \"a\" al número a interpolar\n",
        "a=1.5\n",
        "\n",
        "#Se calculan las filas y columnas con:\n",
        "\n",
        "for r in range(0,len(y)):\n",
        "  M[r][0]=y[r]\n",
        "\n",
        "\n",
        "for i in range(1,len(y)):\n",
        "  for j in range(1,i+1):\n",
        "    M[i][j] = (M[i][j-1] - M[i-1][j-1])/(x[i]- x[i-j])\n",
        "\n",
        "\n",
        "#Se pide que se muestren en pantalla los resultados:\n",
        "print(\"Los valores arrojados para la interpolación de a= 1.5 son:\")\n",
        "print()\n",
        "print(M)\n"
      ]
    },
    {
      "cell_type": "code",
      "source": [
        "#Se obtiene el polinomio con ayuda de los valores anteriores:\n",
        "\n",
        "p = M[0][0]\n",
        "s = sym.Symbol('x')\n",
        "\n",
        "for j in range(1,len(y)):\n",
        "    m = M[j][j]\n",
        "    t = 1\n",
        "    for k in range(0,j,1):\n",
        "        t= t*(s - x[k])\n",
        "    p = t*m + p\n",
        "\n",
        "print('P(x) = ',p)\n",
        "\n",
        "#Se simplifica la expresion del polinomio:\n",
        "ps = p.expand()\n",
        "px = sym.lambdify(s,ps)\n"
      ],
      "metadata": {
        "colab": {
          "base_uri": "https://localhost:8080/"
        },
        "id": "arnEsZGIoUsH",
        "outputId": "aa185b10-d0a3-4825-d1a3-cff87dd02f71"
      },
      "execution_count": null,
      "outputs": [
        {
          "output_type": "stream",
          "name": "stdout",
          "text": [
            "P(x) =  -0.483705666666666*x + 0.00182510288066044*(x - 1.9)*(x - 1.6)*(x - 1.3)*(x - 1.0) + 0.0658783950617283*(x - 1.6)*(x - 1.3)*(x - 1.0) - 0.108733888888889*(x - 1.3)*(x - 1.0) + 1.24890336666667\n"
          ]
        }
      ]
    },
    {
      "cell_type": "code",
      "source": [
        "#Se evalua el 1.5 en el polinomio y pedimos que muestre el resultado:\n",
        "print(\"Evaluando 1.5 en el polinomio se tiene que:\")\n",
        "print(ps.subs(s,1.5))"
      ],
      "metadata": {
        "colab": {
          "base_uri": "https://localhost:8080/"
        },
        "id": "fFZOVtn5p25Z",
        "outputId": "2d6392c3-e70a-4192-a51d-22aad27058c3"
      },
      "execution_count": null,
      "outputs": [
        {
          "output_type": "stream",
          "name": "stdout",
          "text": [
            "Evaluando 1.5 en elpolinomio se tiene que:\n",
            "0.511819994238683\n"
          ]
        }
      ]
    }
  ]
}